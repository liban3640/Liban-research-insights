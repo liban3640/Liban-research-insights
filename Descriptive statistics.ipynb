{
  "nbformat": 4,
  "nbformat_minor": 0,
  "metadata": {
    "colab": {
      "provenance": [],
      "authorship_tag": "ABX9TyNv9T9YtUzYX+yJ+8kjXzWY",
      "include_colab_link": true
    },
    "kernelspec": {
      "name": "python3",
      "display_name": "Python 3"
    },
    "language_info": {
      "name": "python"
    }
  },
  "cells": [
    {
      "cell_type": "markdown",
      "metadata": {
        "id": "view-in-github",
        "colab_type": "text"
      },
      "source": [
        "<a href=\"https://colab.research.google.com/github/liban3640/Liban-research-insights/blob/main/Descriptive%20statistics.ipynb\" target=\"_parent\"><img src=\"https://colab.research.google.com/assets/colab-badge.svg\" alt=\"Open In Colab\"/></a>"
      ]
    },
    {
      "cell_type": "code",
      "execution_count": 5,
      "metadata": {
        "id": "nIhw0o3RBjYN"
      },
      "outputs": [],
      "source": [
        "import pandas as pd\n",
        "import matplotlib.pyplot as plt\n",
        "\n",
        "# Age Distribution Data\n",
        "age_data = {\n",
        "    'Age Group': ['15-19', '20-24', '25-29'],\n",
        "    'Frequency': [21, 16, 13],\n",
        "    'Percentage': [42, 32, 26]\n",
        "}\n",
        "\n",
        "# Gender Distribution Data\n",
        "gender_data = {\n",
        "    'Gender': ['Male', 'Female'],\n",
        "    'Frequency': [25, 25],\n",
        "    'Percentage': [50, 50],\n",
        "    'Mean': [1.50, None],\n",
        "    'Standard Deviation': [0.50, None]\n",
        "}\n",
        "\n",
        "# Grade Distribution Data\n",
        "grade_data = {\n",
        "    'Grade': [1, 2, 3, 4],\n",
        "    'Frequency': [11, 13, 12, 14],\n",
        "    'Percentage': [22, 26, 24, 28],\n",
        "    'Mean': [2.40, None, None, None],\n",
        "    'Standard Deviation': [1.09, None, None, None]\n",
        "}\n",
        "\n",
        "# Duration Distribution Data\n",
        "duration_data = {\n",
        "    'Duration': [1, 2, 3],\n",
        "    'Frequency': [18, 17, 15],\n",
        "    'Percentage': [36, 34, 30],\n",
        "    'Mean': [1.90, None, None],\n",
        "    'Standard Deviation': [0.82, None, None]\n",
        "}\n",
        "\n",
        "# Convert data to pandas DataFrames\n",
        "df_age = pd.DataFrame(age_data)\n",
        "df_gender = pd.DataFrame(gender_data)\n",
        "df_grade = pd.DataFrame(grade_data)\n",
        "df_duration = pd.DataFrame(duration_data)\n",
        "\n",
        "# Function to generate and save table as image\n",
        "def save_table_as_image(df, filename):\n",
        "    fig, ax = plt.subplots(figsize=(8, 3))  # Adjust figure size as needed\n",
        "    ax.axis('off')\n",
        "    ax.table(cellText=df.values,\n",
        "             colLabels=df.columns,\n",
        "             cellLoc='center',\n",
        "             loc='center')\n",
        "    plt.savefig(filename, bbox_inches='tight', pad_inches=0.2)\n",
        "    plt.close()\n",
        "\n",
        "# Save each table as an image\n",
        "save_table_as_image(df_age, 'age_distribution.png')\n",
        "save_table_as_image(df_gender, 'gender_distribution.png')\n",
        "save_table_as_image(df_grade, 'grade_distribution.png')\n",
        "save_table_as_image(df_duration, 'duration_distribution.png')"
      ]
    },
    {
      "cell_type": "code",
      "source": [],
      "metadata": {
        "id": "6DKlpU1HCBRZ"
      },
      "execution_count": 5,
      "outputs": []
    },
    {
      "cell_type": "markdown",
      "source": [
        "import pandas as pd\n",
        "import matplotlib.pyplot as plt\n",
        "\n",
        "# Age Distribution Data\n",
        "age_data = {\n",
        "    'Age Group': ['15-19', '20-24', '25-29'],\n",
        "    'Frequency': [21, 16, 13],\n",
        "    'Percentage': [42, 32, 26]\n",
        "}\n",
        "\n",
        "# Gender Distribution Data\n",
        "gender_data = {\n",
        "    'Gender': ['Male', 'Female'],\n",
        "    'Frequency': [25, 25],\n",
        "    'Percentage': [50, 50],\n",
        "    'Mean': [1.50, None],\n",
        "    'Standard Deviation': [0.50, None]\n",
        "}\n",
        "\n",
        "# Grade Distribution Data\n",
        "grade_data = {\n",
        "    'Grade': [1, 2, 3, 4],\n",
        "    'Frequency': [11, 13, 12, 14],\n",
        "    'Percentage': [22, 26, 24, 28],\n",
        "    'Mean': [2.40, None, None, None],\n",
        "    'Standard Deviation': [1.09, None, None, None]\n",
        "}\n",
        "\n",
        "# Duration Distribution Data\n",
        "duration_data = {\n",
        "    'Duration': [1, 2, 3],\n",
        "    'Frequency': [18, 17, 15],\n",
        "    'Percentage': [36, 34, 30],\n",
        "    'Mean': [1.90, None, None],\n",
        "    'Standard Deviation': [0.82, None, None]\n",
        "}\n",
        "\n",
        "# Convert data to pandas DataFrames\n",
        "df_age = pd.DataFrame(age_data)\n",
        "df_gender = pd.DataFrame(gender_data)\n",
        "df_grade = pd.DataFrame(grade_data)\n",
        "df_duration = pd.DataFrame(duration_data)\n",
        "\n",
        "# Function to generate and save table as image\n",
        "def save_table_as_image(df, filename):\n",
        "    fig, ax = plt.subplots(figsize=(8, 3))  # Adjust figure size as needed\n",
        "    ax.axis('off')\n",
        "    ax.table(cellText=df.values,\n",
        "             colLabels=df.columns,\n",
        "             cellLoc='center',\n",
        "             loc='center')\n",
        "    plt.savefig(filename, bbox_inches='tight', pad_inches=0.2)\n",
        "    plt.close()\n",
        "\n",
        "# Save each table as an image\n",
        "save_table_as_image(df_age, 'age_distribution.png')\n",
        "save_table_as_image(df_gender, 'gender_distribution.png')\n",
        "save_table_as_image(df_grade, 'grade_distribution.png')\n",
        "save_table_as_image(df_duration, 'duration_distribution.png')"
      ],
      "metadata": {
        "id": "Ceig_YETB-Bv"
      }
    }
  ]
}